{
 "cells": [
  {
   "cell_type": "code",
   "execution_count": 3,
   "metadata": {},
   "outputs": [],
   "source": [
    "import matplotlib.pyplot as plt\n",
    "import struct\n",
    "import numpy as np"
   ]
  },
  {
   "cell_type": "code",
   "execution_count": 12,
   "metadata": {},
   "outputs": [
    {
     "name": "stdout",
     "output_type": "stream",
     "text": [
      "linesNum =  841888305\n"
     ]
    }
   ],
   "source": [
    "with open(\"debug_pixels/a_samples.bin\", \"rb\") as fin:\n",
    "  samples_cnt = struct.unpack(\"i\", fin.read(4))[0]\n",
    "  samples = np.array(struct.unpack(\"f\" * samples_cnt * 2, fin.read(4 * samples_cnt * 2))).reshape(samples_cnt, 2)\n",
    "  #labels = np.array(struct.unpack(\"i\" * samples_cnt, fin.read(4 * samples_cnt)))\n",
    "  #line = struct.unpack(\"f\" * 3, fin.read(4 * 3))\n",
    "\n",
    "with open(\"debug_pixels/pix_0420_0158.bin\", \"rb\") as fin: \n",
    "   linesNum = struct.unpack(\"i\", fin.read(4))[0]\n",
    "   print(\"linesNum = \", linesNum)\n",
    "   line = struct.unpack(\"f\" * 3, fin.read(4 * 3))\n",
    "    "
   ]
  },
  {
   "cell_type": "code",
   "execution_count": 9,
   "metadata": {},
   "outputs": [
    {
     "data": {
      "text/plain": [
       "[<matplotlib.lines.Line2D at 0x7f748ecc13d0>]"
      ]
     },
     "execution_count": 9,
     "metadata": {},
     "output_type": "execute_result"
    },
    {
     "data": {
      "image/png": "[encoded data removed]",
      "text/plain": [
       "<Figure size 504x504 with 1 Axes>"
      ]
     },
     "metadata": {
      "needs_background": "light"
     },
     "output_type": "display_data"
    }
   ],
   "source": [
    "plt.figure(0, (7, 7))\n",
    "plt.xlim(-0.5, 0.5)\n",
    "plt.ylim(-0.5, 0.5)\n",
    "plt.plot(samples[:, 0], samples[:, 1], 'o')\n",
    "\n",
    "#x = np.linspace(-0.5, 0.5)\n",
    "#plt.plot(x, -(line[0] / line[1] * x + line[2] / line[1]))\n",
    "\n",
    "# plt.plot([(-line[2] + 10 * line[0]) / line[1], -10], [(-line[2] - 10 * line[0]) / line[1], 10])\n",
    "# plt.plot([10, (-line[2] - 10 * line[1]) / line[0]], [-10, (-line[2] + 10 * line[1]) / line[0]])\n",
    "# plt.plot([-1000, (-line[2] + 1000 * line[1]) / line[0]], [(-line[2] + 1000 * line[0]) / line[1], -1000])"
   ]
  },
  {
   "cell_type": "code",
   "execution_count": null,
   "metadata": {},
   "outputs": [],
   "source": [
    "idx = 38\n",
    "line[0] * samples[idx][0] + line[1] * samples[idx][1] + line[2]"
   ]
  },
  {
   "cell_type": "code",
   "execution_count": null,
   "metadata": {},
   "outputs": [],
   "source": [
    "labels == 1"
   ]
  },
  {
   "cell_type": "code",
   "execution_count": null,
   "metadata": {},
   "outputs": [],
   "source": []
  }
 ],
 "metadata": {
  "interpreter": {
   "hash": "31f2aee4e71d21fbe5cf8b01ff0e069b9275f58929596ceb00d14d90e3e16cd6"
  },
  "kernelspec": {
   "display_name": "Python 3 (ipykernel)",
   "language": "python",
   "name": "python3"
  },
  "language_info": {
   "codemirror_mode": {
    "name": "ipython",
    "version": 3
   },
   "file_extension": ".py",
   "mimetype": "text/x-python",
   "name": "python",
   "nbconvert_exporter": "python",
   "pygments_lexer": "ipython3",
   "version": "3.8.10"
  }
 },
 "nbformat": 4,
 "nbformat_minor": 4
}
