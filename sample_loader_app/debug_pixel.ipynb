{
 "cells": [
  {
   "cell_type": "code",
   "execution_count": 1,
   "metadata": {},
   "outputs": [],
   "source": [
    "import matplotlib.pyplot as plt\n",
    "import struct\n",
    "import numpy as np"
   ]
  },
  {
   "cell_type": "code",
   "execution_count": 2,
   "metadata": {},
   "outputs": [
    {
     "ename": "FileNotFoundError",
     "evalue": "[Errno 2] No such file or directory: 'debug_pixels/a_samples.bin'",
     "output_type": "error",
     "traceback": [
      "\u001b[1;31m---------------------------------------------------------------------------\u001b[0m",
      "\u001b[1;31mFileNotFoundError\u001b[0m                         Traceback (most recent call last)",
      "\u001b[1;32md:\\Projects\\scenes\\sample_loader_app\\debug_pixel.ipynb Cell 2'\u001b[0m in \u001b[0;36m<cell line: 1>\u001b[1;34m()\u001b[0m\n\u001b[1;32m----> <a href='vscode-notebook-cell:/d%3A/Projects/scenes/sample_loader_app/debug_pixel.ipynb#ch0000001?line=0'>1</a>\u001b[0m \u001b[39mwith\u001b[39;00m \u001b[39mopen\u001b[39;49m(\u001b[39m\"\u001b[39;49m\u001b[39mdebug_pixels/a_samples.bin\u001b[39;49m\u001b[39m\"\u001b[39;49m, \u001b[39m\"\u001b[39;49m\u001b[39mrb\u001b[39;49m\u001b[39m\"\u001b[39;49m) \u001b[39mas\u001b[39;00m fin:\n\u001b[0;32m      <a href='vscode-notebook-cell:/d%3A/Projects/scenes/sample_loader_app/debug_pixel.ipynb#ch0000001?line=1'>2</a>\u001b[0m   samples_cnt \u001b[39m=\u001b[39m struct\u001b[39m.\u001b[39munpack(\u001b[39m\"\u001b[39m\u001b[39mi\u001b[39m\u001b[39m\"\u001b[39m, fin\u001b[39m.\u001b[39mread(\u001b[39m4\u001b[39m))[\u001b[39m0\u001b[39m]\n\u001b[0;32m      <a href='vscode-notebook-cell:/d%3A/Projects/scenes/sample_loader_app/debug_pixel.ipynb#ch0000001?line=2'>3</a>\u001b[0m   samples \u001b[39m=\u001b[39m np\u001b[39m.\u001b[39marray(struct\u001b[39m.\u001b[39munpack(\u001b[39m\"\u001b[39m\u001b[39mf\u001b[39m\u001b[39m\"\u001b[39m \u001b[39m*\u001b[39m samples_cnt \u001b[39m*\u001b[39m \u001b[39m2\u001b[39m, fin\u001b[39m.\u001b[39mread(\u001b[39m4\u001b[39m \u001b[39m*\u001b[39m samples_cnt \u001b[39m*\u001b[39m \u001b[39m2\u001b[39m)))\u001b[39m.\u001b[39mreshape(samples_cnt, \u001b[39m2\u001b[39m)\n",
      "\u001b[1;31mFileNotFoundError\u001b[0m: [Errno 2] No such file or directory: 'debug_pixels/a_samples.bin'"
     ]
    }
   ],
   "source": [
    "with open(\"debug_pixels/a_samples.bin\", \"rb\") as fin:\n",
    "  samples_cnt = struct.unpack(\"i\", fin.read(4))[0]\n",
    "  samples = np.array(struct.unpack(\"f\" * samples_cnt * 2, fin.read(4 * samples_cnt * 2))).reshape(samples_cnt, 2)\n",
    "  print(\"samples.size() = \", len(samples))\n",
    "\n",
    "class PixelData:\n",
    "  def __init__(self, filename):\n",
    "    with open(filename, \"rb\") as fin: \n",
    "      linesNum = struct.unpack(\"i\", fin.read(4))[0]\n",
    "      # print(\"linesNum = \", linesNum)\n",
    "      self.line = struct.unpack(\"f\" * 3, fin.read(4 * 3))\n",
    "      self.labels = np.array(struct.unpack(\"i\" * samples_cnt, fin.read(4 * samples_cnt))) \n"
   ]
  },
  {
   "cell_type": "code",
   "execution_count": 3,
   "metadata": {},
   "outputs": [
    {
     "ename": "NameError",
     "evalue": "name 'pixels' is not defined",
     "output_type": "error",
     "traceback": [
      "\u001b[1;31m---------------------------------------------------------------------------\u001b[0m",
      "\u001b[1;31mNameError\u001b[0m                                 Traceback (most recent call last)",
      "\u001b[1;32md:\\Projects\\scenes\\sample_loader_app\\debug_pixel.ipynb Cell 3'\u001b[0m in \u001b[0;36m<cell line: 1>\u001b[1;34m()\u001b[0m\n\u001b[1;32m----> <a href='vscode-notebook-cell:/d%3A/Projects/scenes/sample_loader_app/debug_pixel.ipynb#ch0000002?line=0'>1</a>\u001b[0m fig \u001b[39m=\u001b[39m plt\u001b[39m.\u001b[39mfigure(figsize\u001b[39m=\u001b[39m(\u001b[39m5\u001b[39m \u001b[39m*\u001b[39m \u001b[39mlen\u001b[39m(pixels[\u001b[39m0\u001b[39m]), \u001b[39m5\u001b[39m \u001b[39m*\u001b[39m \u001b[39mlen\u001b[39m(pixels)))\n\u001b[0;32m      <a href='vscode-notebook-cell:/d%3A/Projects/scenes/sample_loader_app/debug_pixel.ipynb#ch0000002?line=2'>3</a>\u001b[0m idx \u001b[39m=\u001b[39m \u001b[39m0\u001b[39m\n\u001b[0;32m      <a href='vscode-notebook-cell:/d%3A/Projects/scenes/sample_loader_app/debug_pixel.ipynb#ch0000002?line=3'>4</a>\u001b[0m \u001b[39mfor\u001b[39;00m pix_line \u001b[39min\u001b[39;00m pixels:\n",
      "\u001b[1;31mNameError\u001b[0m: name 'pixels' is not defined"
     ]
    }
   ],
   "source": [
    "fig = plt.figure(figsize=(5 * len(pixels[0]), 5 * len(pixels)))\n",
    "\n",
    "idx = 0\n",
    "for pix_line in pixels:\n",
    "    for pixel in pix_line:\n",
    "        ax = fig.add_subplot(len(pixels), len(pix_line), len(pixels) * len(pix_line) - idx)\n",
    "        radius = 0.5\n",
    "        plt.xlim(-radius, radius)\n",
    "        plt.ylim(-radius, radius)\n",
    "        ax.plot(samples[pixel.labels == 0][:, 0], samples[pixel.labels == 0][:, 1], 'o')\n",
    "        ax.plot(samples[pixel.labels == 1][:, 0], samples[pixel.labels == 1][:, 1], '*')\n",
    "\n",
    "        for i in range(len(samples)):\n",
    "            plt.annotate(str(i), samples[i], textcoords=\"offset points\", xytext=(0,8),ha='center')\n",
    "\n",
    "        x = np.linspace(-radius, radius)\n",
    "        plt.plot(x, -(pixel.line[0] / pixel.line[1] * x + pixel.line[2] / pixel.line[1]))\n",
    "        idx += 1"
   ]
  },
  {
   "cell_type": "code",
   "execution_count": null,
   "metadata": {},
   "outputs": [],
   "source": []
  },
  {
   "cell_type": "code",
   "execution_count": null,
   "metadata": {},
   "outputs": [],
   "source": []
  }
 ],
 "metadata": {
  "interpreter": {
   "hash": "31f2aee4e71d21fbe5cf8b01ff0e069b9275f58929596ceb00d14d90e3e16cd6"
  },
  "kernelspec": {
   "display_name": "Python 3 (ipykernel)",
   "language": "python",
   "name": "python3"
  },
  "language_info": {
   "codemirror_mode": {
    "name": "ipython",
    "version": 3
   },
   "file_extension": ".py",
   "mimetype": "text/x-python",
   "name": "python",
   "nbconvert_exporter": "python",
   "pygments_lexer": "ipython3",
   "version": "3.10.4"
  }
 },
 "nbformat": 4,
 "nbformat_minor": 4
}
